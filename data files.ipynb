{
 "cells": [
  {
   "cell_type": "markdown",
   "metadata": {},
   "source": [
    "# Data files"
   ]
  },
  {
   "cell_type": "code",
   "execution_count": 2,
   "metadata": {},
   "outputs": [],
   "source": [
    "# there are three types of data files\n",
    "# read\n",
    "# write\n",
    "# append\n",
    "\n",
    "\n",
    "# and two more upgrade version of datafile w+ r+"
   ]
  },
  {
   "cell_type": "code",
   "execution_count": 18,
   "metadata": {},
   "outputs": [
    {
     "name": "stdout",
     "output_type": "stream",
     "text": [
      "mu name is rana\n"
     ]
    }
   ],
   "source": [
    "# read mode\n",
    "with open(\"checkdatafile.txt\", \"r\") as file:\n",
    "    content=file.read()\n",
    "print(content)"
   ]
  },
  {
   "cell_type": "code",
   "execution_count": 10,
   "metadata": {},
   "outputs": [],
   "source": [
    "with open(\"newfile.txt\", \"w\") as file:\n",
    "    file.write(\"muddassir\")"
   ]
  },
  {
   "cell_type": "code",
   "execution_count": 17,
   "metadata": {},
   "outputs": [
    {
     "name": "stdout",
     "output_type": "stream",
     "text": [
      "muddassir\n"
     ]
    }
   ],
   "source": [
    "with open(\"newfile.txt\", \"r\") as file:\n",
    "    content=file.read()\n",
    "    print(content)"
   ]
  },
  {
   "cell_type": "code",
   "execution_count": 20,
   "metadata": {},
   "outputs": [],
   "source": [
    "with open (\"newfile.txt\",\"w\") as file:\n",
    "    file.write(\"ali\")"
   ]
  },
  {
   "cell_type": "code",
   "execution_count": 21,
   "metadata": {},
   "outputs": [],
   "source": [
    "with open (\"newfile.txt\",\"a\") as file:\n",
    "    file.write(\"muddassir ali rana khan ne kha h ai jkdj\")"
   ]
  },
  {
   "cell_type": "code",
   "execution_count": 28,
   "metadata": {},
   "outputs": [
    {
     "name": "stdout",
     "output_type": "stream",
     "text": [
      "\n"
     ]
    }
   ],
   "source": [
    "with open (\"newfile.txt\",\"w+\") as file:\n",
    "    file.write(\"    b fahad ali\")\n",
    "    file.seek\n",
    "    print ( file.read())"
   ]
  },
  {
   "cell_type": "code",
   "execution_count": 29,
   "metadata": {},
   "outputs": [
    {
     "name": "stdout",
     "output_type": "stream",
     "text": [
      "    b fahad ali\n"
     ]
    }
   ],
   "source": [
    "with open (\"newfile.txt\",\"w+\") as file:\n",
    "    file.write(\"    b fahad ali\")\n",
    "    file.seek(0)\n",
    "    print ( file.read())"
   ]
  },
  {
   "cell_type": "code",
   "execution_count": 31,
   "metadata": {},
   "outputs": [
    {
     "name": "stdout",
     "output_type": "stream",
     "text": [
      "    b fahad ali\n"
     ]
    }
   ],
   "source": [
    "with open (\"newfile.txt\",\"r+\") as file:\n",
    "    file.write(\"    b fahad ali\")\n",
    "    file.seek(0)\n",
    "    print ( file.read())"
   ]
  },
  {
   "cell_type": "code",
   "execution_count": 1,
   "metadata": {},
   "outputs": [
    {
     "name": "stdout",
     "output_type": "stream",
     "text": [
      "mu name is rana this is a python code file checking good bye\n"
     ]
    }
   ],
   "source": [
    "with open (\"checkdatafile.txt\", \"r\") as file:\n",
    "    content=file.read()\n",
    "    \n",
    "print(content)"
   ]
  },
  {
   "cell_type": "code",
   "execution_count": 3,
   "metadata": {},
   "outputs": [],
   "source": [
    "with open(\"checkdatafile.txt\",\"w\") as file:\n",
    "    file.write(\"fahad rana\")"
   ]
  },
  {
   "cell_type": "code",
   "execution_count": 4,
   "metadata": {},
   "outputs": [],
   "source": [
    "with open (\"checkdatafile.txt\", \"a\") as file:\n",
    "    file.write(\"muddassir ali rana new words\")"
   ]
  },
  {
   "cell_type": "code",
   "execution_count": 5,
   "metadata": {},
   "outputs": [
    {
     "name": "stdout",
     "output_type": "stream",
     "text": [
      "fahad ranamuddassir ali rana new words\n"
     ]
    }
   ],
   "source": [
    "with open (\"checkdatafile.txt\" , \"r\")as file:\n",
    "    content=file.read()\n",
    "print(content)"
   ]
  },
  {
   "cell_type": "code",
   "execution_count": 7,
   "metadata": {},
   "outputs": [
    {
     "name": "stdout",
     "output_type": "stream",
     "text": [
      " ali reana khan\n"
     ]
    }
   ],
   "source": [
    "with open(\"checkdatafile.txt\", \"w+\") as file:\n",
    "    file.write(\" ali reana khan\")\n",
    "    file.seek(0)\n",
    "    print(file.read())"
   ]
  },
  {
   "cell_type": "code",
   "execution_count": 9,
   "metadata": {},
   "outputs": [
    {
     "name": "stdout",
     "output_type": "stream",
     "text": [
      "ami janana khan\n"
     ]
    }
   ],
   "source": [
    "with open(\"checkdatafile.txt\" ,\"r+\")as file:\n",
    "    file.write(\"ami jan\")\n",
    "    file.seek(0)\n",
    "    print(file.read())"
   ]
  },
  {
   "cell_type": "code",
   "execution_count": null,
   "metadata": {},
   "outputs": [],
   "source": []
  }
 ],
 "metadata": {
  "kernelspec": {
   "display_name": "Python 3",
   "language": "python",
   "name": "python3"
  },
  "language_info": {
   "codemirror_mode": {
    "name": "ipython",
    "version": 3
   },
   "file_extension": ".py",
   "mimetype": "text/x-python",
   "name": "python",
   "nbconvert_exporter": "python",
   "pygments_lexer": "ipython3",
   "version": "3.7.6"
  }
 },
 "nbformat": 4,
 "nbformat_minor": 4
}
