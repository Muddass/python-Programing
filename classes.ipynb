{
 "cells": [
  {
   "cell_type": "markdown",
   "metadata": {},
   "source": [
    "# classes"
   ]
  },
  {
   "cell_type": "code",
   "execution_count": 1,
   "metadata": {},
   "outputs": [
    {
     "name": "stdout",
     "output_type": "stream",
     "text": [
      "ali\n"
     ]
    }
   ],
   "source": [
    "print(\"ali\")"
   ]
  },
  {
   "cell_type": "code",
   "execution_count": 25,
   "metadata": {},
   "outputs": [],
   "source": [
    "class car ():\n",
    "    # atribute >>.>>>>>>> variable\n",
    "    #############################\n",
    "    def __init__(self,make,model,year):\n",
    "        \n",
    "        self.make=make\n",
    "        self.model=model\n",
    "        self.year=year\n",
    "        \n",
    "        self.battery=\"200amp\"  # defult atribute\n",
    "    \n",
    "    #behavior >>>>>> function###\n",
    "    ###########################\n",
    "    \n",
    "    def description_car(self):\n",
    "        print(f\"the make of car is{self.make}\")\n",
    "        print(f\"the model of car is{self.model}\")\n",
    "        print(f\"the year of car is{self.year}\")\n",
    "    def make(self):\n",
    "        print(f\"{self.make}is this\")\n",
    "    def move(self):\n",
    "        print(f\"{self.move}tis car is movuing\")\n",
    "    def applyingBreak(self):\n",
    "        print(f\"{self.model}this car is applyingBreak\")\n",
    "    def desbattery(self):\n",
    "        print(f\"the bateryy power of {self.battery}\")\n",
    "    \n",
    "    def setBatterysize(self,newsize):\n",
    "        self.battery=newsize\n",
    "        \n",
    "    def getbatterysize(self):\n",
    "        print(f\"your battery size is {self.battery}\")\n",
    "        "
   ]
  },
  {
   "cell_type": "code",
   "execution_count": 4,
   "metadata": {},
   "outputs": [],
   "source": [
    "car1=car(\"honda\",\"civic\",2020)"
   ]
  },
  {
   "cell_type": "code",
   "execution_count": 5,
   "metadata": {},
   "outputs": [
    {
     "data": {
      "text/plain": [
       "<bound method car.applyingBreak of <__main__.car object at 0x000000E9219F1BC8>>"
      ]
     },
     "execution_count": 5,
     "metadata": {},
     "output_type": "execute_result"
    }
   ],
   "source": [
    "car1.applyingBreak"
   ]
  },
  {
   "cell_type": "code",
   "execution_count": 6,
   "metadata": {},
   "outputs": [
    {
     "data": {
      "text/plain": [
       "<bound method car.description_car of <__main__.car object at 0x000000E9219F1BC8>>"
      ]
     },
     "execution_count": 6,
     "metadata": {},
     "output_type": "execute_result"
    }
   ],
   "source": [
    "car1.description_car"
   ]
  },
  {
   "cell_type": "code",
   "execution_count": 7,
   "metadata": {},
   "outputs": [
    {
     "data": {
      "text/plain": [
       "'honda'"
      ]
     },
     "execution_count": 7,
     "metadata": {},
     "output_type": "execute_result"
    }
   ],
   "source": [
    "car1.make"
   ]
  },
  {
   "cell_type": "code",
   "execution_count": 11,
   "metadata": {},
   "outputs": [
    {
     "name": "stdout",
     "output_type": "stream",
     "text": [
      "<bound method car.applyingBreak of <__main__.car object at 0x000000E9219F1BC8>>this car is applyingBreak\n"
     ]
    }
   ],
   "source": [
    "car1.applyingBreak()"
   ]
  },
  {
   "cell_type": "code",
   "execution_count": 9,
   "metadata": {},
   "outputs": [
    {
     "name": "stdout",
     "output_type": "stream",
     "text": [
      "the make of car ishonda\n",
      "the model of car iscivic\n",
      "the year of car is2020\n"
     ]
    }
   ],
   "source": [
    "car1.description_car()"
   ]
  },
  {
   "cell_type": "code",
   "execution_count": 12,
   "metadata": {},
   "outputs": [],
   "source": [
    "car1.make=\"toyota\""
   ]
  },
  {
   "cell_type": "code",
   "execution_count": 13,
   "metadata": {},
   "outputs": [
    {
     "data": {
      "text/plain": [
       "'toyota'"
      ]
     },
     "execution_count": 13,
     "metadata": {},
     "output_type": "execute_result"
    }
   ],
   "source": [
    "car1.make"
   ]
  },
  {
   "cell_type": "code",
   "execution_count": 18,
   "metadata": {},
   "outputs": [],
   "source": [
    "car2=car(\"suzuki\",\"mehran\",2010)"
   ]
  },
  {
   "cell_type": "code",
   "execution_count": 26,
   "metadata": {},
   "outputs": [
    {
     "data": {
      "text/plain": [
       "'200amp'"
      ]
     },
     "execution_count": 26,
     "metadata": {},
     "output_type": "execute_result"
    }
   ],
   "source": [
    "car2.battery"
   ]
  },
  {
   "cell_type": "code",
   "execution_count": 28,
   "metadata": {},
   "outputs": [],
   "source": [
    "car1=car(\"toyota\",\"corola\",2019)"
   ]
  },
  {
   "cell_type": "code",
   "execution_count": 29,
   "metadata": {},
   "outputs": [
    {
     "data": {
      "text/plain": [
       "'toyota'"
      ]
     },
     "execution_count": 29,
     "metadata": {},
     "output_type": "execute_result"
    }
   ],
   "source": [
    "car1.make"
   ]
  },
  {
   "cell_type": "code",
   "execution_count": 30,
   "metadata": {},
   "outputs": [
    {
     "name": "stdout",
     "output_type": "stream",
     "text": [
      "the bateryy power of 200amp\n"
     ]
    }
   ],
   "source": [
    "car1.desbattery()"
   ]
  },
  {
   "cell_type": "code",
   "execution_count": 31,
   "metadata": {},
   "outputs": [],
   "source": [
    "car1.setBatterysize(\"500amp\")"
   ]
  },
  {
   "cell_type": "code",
   "execution_count": 32,
   "metadata": {},
   "outputs": [
    {
     "name": "stdout",
     "output_type": "stream",
     "text": [
      "your battery size is 500amp\n"
     ]
    }
   ],
   "source": [
    "car1.getbatterysize()"
   ]
  },
  {
   "cell_type": "code",
   "execution_count": 1,
   "metadata": {},
   "outputs": [],
   "source": [
    "class bike():\n",
    "    def __init__(self,model,make,year):\n",
    "        self.model=model\n",
    "        self.make=make\n",
    "        self.year=year\n",
    "        self.battery=\"200mah\"\n",
    "    def discription(self):\n",
    "        print(f\"this bike model is {self.model}\")\n",
    "        print(f\"this bike make is {self.make}\")\n",
    "        print(f\"this bike year is {self.year}\")\n",
    "    \n",
    "    def move(self):\n",
    "        print(f\"this car{self,move} is movimngv\")\n",
    "    def make(self):\n",
    "        print(f\"this car {self.make}  \")"
   ]
  },
  {
   "cell_type": "code",
   "execution_count": 3,
   "metadata": {},
   "outputs": [],
   "source": [
    "bike1 =bike"
   ]
  },
  {
   "cell_type": "code",
   "execution_count": 4,
   "metadata": {},
   "outputs": [
    {
     "data": {
      "text/plain": [
       "<__main__.bike at 0xd3fc85ebc8>"
      ]
     },
     "execution_count": 4,
     "metadata": {},
     "output_type": "execute_result"
    }
   ],
   "source": [
    "bike1(\"ybr\",\"yamaha\",2020)"
   ]
  },
  {
   "cell_type": "code",
   "execution_count": 37,
   "metadata": {},
   "outputs": [],
   "source": [
    "class Bus():\n",
    "    def __init__ (self,make,model,color):\n",
    "        self.make=make\n",
    "        self.model=model\n",
    "        self.color=color\n",
    "        \n",
    "        self.battery=\"200mah\"\n",
    "        \n",
    "    def DiscriptionBus(self):\n",
    "        print(f\"the bus make by{self.make}\")\n",
    "        print(f\"the bus model by{self.model}\")\n",
    "        print(f\"the bus coclr by{self.color}\")\n",
    "    \n",
    "    def move(self):\n",
    "        print(f\"the bus {self.make} move byb speed\")\n",
    "    def aplybreak(self):\n",
    "        print(f\"the bus{self.make} applying break\")\n",
    "        \n",
    "    def batterydes(self):\n",
    "        print(f\"the battery size is {self.batter}\")\n",
    "        \n",
    "    def setBatrySize(self,newsize):\n",
    "        self.battery=newsize\n",
    "\n",
    "    def getbatrysize(self):\n",
    "        print(f\"{self.battery}\")"
   ]
  },
  {
   "cell_type": "code",
   "execution_count": 38,
   "metadata": {},
   "outputs": [],
   "source": [
    "bus1=Bus(\"youtong\",2020,\"blue\")"
   ]
  },
  {
   "cell_type": "code",
   "execution_count": 39,
   "metadata": {},
   "outputs": [
    {
     "data": {
      "text/plain": [
       "'youtong'"
      ]
     },
     "execution_count": 39,
     "metadata": {},
     "output_type": "execute_result"
    }
   ],
   "source": [
    "bus1.make"
   ]
  },
  {
   "cell_type": "code",
   "execution_count": 40,
   "metadata": {},
   "outputs": [
    {
     "name": "stdout",
     "output_type": "stream",
     "text": [
      "the bus make byyoutong\n",
      "the bus model by2020\n",
      "the bus coclr byblue\n"
     ]
    }
   ],
   "source": [
    "bus1.DiscriptionBus()"
   ]
  },
  {
   "cell_type": "code",
   "execution_count": 41,
   "metadata": {},
   "outputs": [
    {
     "data": {
      "text/plain": [
       "'blue'"
      ]
     },
     "execution_count": 41,
     "metadata": {},
     "output_type": "execute_result"
    }
   ],
   "source": [
    "bus1.color"
   ]
  },
  {
   "cell_type": "code",
   "execution_count": 42,
   "metadata": {},
   "outputs": [],
   "source": [
    "bus2=Bus(\"homnda\",2021,\"black\")"
   ]
  },
  {
   "cell_type": "code",
   "execution_count": 43,
   "metadata": {},
   "outputs": [
    {
     "data": {
      "text/plain": [
       "'200mah'"
      ]
     },
     "execution_count": 43,
     "metadata": {},
     "output_type": "execute_result"
    }
   ],
   "source": [
    "bus2.battery"
   ]
  },
  {
   "cell_type": "code",
   "execution_count": 45,
   "metadata": {},
   "outputs": [],
   "source": [
    "bus2.setBatrySize(\"400mah\")"
   ]
  },
  {
   "cell_type": "code",
   "execution_count": 46,
   "metadata": {},
   "outputs": [
    {
     "name": "stdout",
     "output_type": "stream",
     "text": [
      "400mah\n"
     ]
    }
   ],
   "source": [
    "bus2.getbatrysize()"
   ]
  },
  {
   "cell_type": "markdown",
   "metadata": {},
   "source": [
    "## "
   ]
  }
 ],
 "metadata": {
  "kernelspec": {
   "display_name": "Python 3",
   "language": "python",
   "name": "python3"
  },
  "language_info": {
   "codemirror_mode": {
    "name": "ipython",
    "version": 3
   },
   "file_extension": ".py",
   "mimetype": "text/x-python",
   "name": "python",
   "nbconvert_exporter": "python",
   "pygments_lexer": "ipython3",
   "version": "3.7.6"
  }
 },
 "nbformat": 4,
 "nbformat_minor": 4
}
