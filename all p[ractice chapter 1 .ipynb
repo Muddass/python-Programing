{
 "cells": [
  {
   "cell_type": "code",
   "execution_count": 9,
   "metadata": {},
   "outputs": [
    {
     "name": "stdout",
     "output_type": "stream",
     "text": [
      "123\n",
      "10.7\n",
      "ali\n",
      "muddassir ali rana\n",
      "23 45 76\n",
      "2.9 78.3 89.0\n",
      "ali\n",
      "hamza\n"
     ]
    }
   ],
   "source": [
    "# print practice\n",
    "print(123)\n",
    "print(10.7)\n",
    "print(\"ali\")\n",
    "print(\"muddassir\",\"ali\",\"rana\")\n",
    "print(23,45,76)\n",
    "print(2.9,78.3,89.0)\n",
    "\n",
    "print(\"ali\")\n",
    "\n",
    "print(\"hamza\")"
   ]
  },
  {
   "cell_type": "code",
   "execution_count": 17,
   "metadata": {},
   "outputs": [
    {
     "name": "stdout",
     "output_type": "stream",
     "text": [
      "hamzaalifahad\n",
      "rana####anas####ameen\n",
      "rana  anas  ameen\n",
      "rana??//anas??//ameen\n"
     ]
    }
   ],
   "source": [
    "# seprator use\n",
    "print(\"hamza\",\"ali\",\"fahad\",sep=\"\") # in sep no space\n",
    "print(\"rana\",\"anas\",\"ameen\", sep=\"####\") # in sep symbol\n",
    "print(\"rana\",\"anas\",\"ameen\", sep=\"  \")  # in sep double  space\n",
    "print(\"rana\",\"anas\",\"ameen\", sep=\"??//\") # in sep synmbol\n"
   ]
  },
  {
   "cell_type": "code",
   "execution_count": 40,
   "metadata": {},
   "outputs": [
    {
     "name": "stdout",
     "output_type": "stream",
     "text": [
      "muddassir ali rana\n",
      "muddassir ali rana\n",
      "muddassir ali rana\n",
      "muddassir ali ranamuddassir ali rana\n",
      "muddassir ali rana\n",
      "\n",
      "\n",
      "muddassir ali rana\n",
      "\n",
      "\n",
      "muddassir ali rana\n",
      "muddassir ali rana\t\tmuddassir ali rana\n",
      "muddassir\r",
      " ali rana\n",
      "muddassir'' ali rana\n",
      "muddassir\\# ali rana\n",
      "muddassir ali\\ rana\n",
      "muddassir ali\f",
      " rana\n"
     ]
    }
   ],
   "source": [
    "# without end =\"\" use normal printing\n",
    "print(\"muddassir ali rana\")\n",
    "print(\"muddassir ali rana\")\n",
    "print(\"muddassir ali rana\")\n",
    "\n",
    "# with end=\"\" use\n",
    "\n",
    "print(\"muddassir ali rana\", end=\"\") #no use koi bhi cheez no space\n",
    "print(\"muddassir ali rana\")\n",
    "\n",
    "print(\"muddassir ali rana\", end=\"\\n\\n\\n\") # line breake\n",
    "print(\"muddassir ali rana\",end=\"\\n\\n\\n\")\n",
    "print(\"muddassir ali rana\")\n",
    "\n",
    "\n",
    "print(\"muddassir ali rana\", end=\"\\t\\t\") # tab space ajaye ga double\n",
    "print(\"muddassir ali rana\", end=\"\\n\")\n",
    "print(\"muddassir\\r ali rana\")\n",
    "print(\"muddassir\\'\\' ali rana\")\n",
    "print(\"muddassir\\# ali rana\")\n",
    "print(\"muddassir ali\\\\ rana\")\n",
    "print(\"muddassir ali\\f rana\")"
   ]
  },
  {
   "cell_type": "code",
   "execution_count": 47,
   "metadata": {},
   "outputs": [
    {
     "name": "stdout",
     "output_type": "stream",
     "text": [
      "4\n",
      "1\n",
      "6\n",
      "10.0\n",
      "15\n",
      "14\n",
      "4\n",
      "45\n",
      "1.8\n",
      "4\n"
     ]
    }
   ],
   "source": [
    "#oprator example practice\n",
    "\n",
    "print(2+2) # addition simple\n",
    "print(3-2) # subtract simple\n",
    "print(3*2) # multiply simple\n",
    "print(20/2) # divede hamesha flote mai result dega apna python mai\n",
    "\n",
    "# 2nd way\n",
    "a=10\n",
    "b=5\n",
    "c=a+b\n",
    "print(c)\n",
    "\n",
    "#3rd way\n",
    "value1 =9\n",
    "value2=5\n",
    "sum=value1+value2\n",
    "sub=value1-value2\n",
    "mul=value1*value2\n",
    "div=value1/value2\n",
    "mod=value1%value2\n",
    "\n",
    "print(sum)\n",
    "print(sub)\n",
    "print(mul)\n",
    "print(div)\n",
    "print(mod)"
   ]
  },
  {
   "cell_type": "code",
   "execution_count": 1,
   "metadata": {},
   "outputs": [
    {
     "name": "stdout",
     "output_type": "stream",
     "text": [
      "10\n",
      "18\n",
      "ali\n",
      "19.3\n",
      "muddassirrana\n"
     ]
    }
   ],
   "source": [
    "#variable practice\n",
    "a=10\n",
    "print(a)\n",
    "\n",
    "value1=10\n",
    "value2=8\n",
    "sum=value1+value2\n",
    "print(sum)\n",
    "\n",
    "b=\"ali\"\n",
    "print(b)\n",
    "\n",
    "c=19.3\n",
    "print(c)\n",
    "\n",
    "#type(a)\n",
    "#type(b)\n",
    "type(c)\n",
    "\n",
    "name=\"muddassir\"\n",
    "lname=\"rana\"   # string plus nahi cocatnate hote hain\n",
    "print(name+  lname)"
   ]
  },
  {
   "cell_type": "markdown",
   "metadata": {},
   "source": [
    "# list"
   ]
  },
  {
   "cell_type": "code",
   "execution_count": 7,
   "metadata": {},
   "outputs": [
    {
     "name": "stdout",
     "output_type": "stream",
     "text": [
      "['rana', 'ali', 'ahmed', 'sultan', 'ertugvral']\n",
      "[1, 2, 3, 4, 5, 6, 7, 8, 9, 0]\n",
      "[1.2, 34.6, 7.6, 8.0, 22.22]\n",
      "['ali', 22, 5.7, 'rana']\n",
      "4\n"
     ]
    },
    {
     "data": {
      "text/plain": [
       "5"
      ]
     },
     "execution_count": 7,
     "metadata": {},
     "output_type": "execute_result"
    }
   ],
   "source": [
    "#list practice\n",
    "name=[\"rana\",\"ali\",\"ahmed\",\"sultan\",\"ertugvral\"]  #list by string\n",
    "\n",
    "num=[1,2,3,4,5,6,7,8,9,0] #list by integer\n",
    "float=[1.2,34.6,7.6,8.0,22.22,2.3] #list by float number\n",
    "\n",
    "mix=[\"ali\",22,5.7,\"rana\"] #lis by mix data type\n",
    "\n",
    "#print all list\n",
    "print(name)\n",
    "print(num)\n",
    "print(float)\n",
    "print(mix)\n",
    "print(num[3])\n",
    "len(name) # this fuction use for check list lenghth"
   ]
  },
  {
   "cell_type": "code",
   "execution_count": 11,
   "metadata": {},
   "outputs": [
    {
     "data": {
      "text/plain": [
       "['rana',\n",
       " 'ali',\n",
       " 'ahmed',\n",
       " 'sultan',\n",
       " 'ertugvral',\n",
       " 'muddassir',\n",
       " 'muddassir',\n",
       " 'muddassir',\n",
       " 'muddassir']"
      ]
     },
     "execution_count": 11,
     "metadata": {},
     "output_type": "execute_result"
    }
   ],
   "source": [
    "\n",
    "name.append(\"muddassir\")  #this list funtion append use for add a member of list it is add the num in the end of the list\n",
    "name"
   ]
  },
  {
   "cell_type": "code",
   "execution_count": 13,
   "metadata": {},
   "outputs": [
    {
     "data": {
      "text/plain": [
       "[]"
      ]
     },
     "execution_count": 13,
     "metadata": {},
     "output_type": "execute_result"
    }
   ],
   "source": [
    "num.clear() # this list opration use for clear the list fully permenental never recover data if this use\n",
    "num"
   ]
  },
  {
   "cell_type": "code",
   "execution_count": 14,
   "metadata": {},
   "outputs": [],
   "source": [
    "num=[1,2,3,4,5,6,7,8,9,0,11,12,13,14,15] #again data input in num"
   ]
  },
  {
   "cell_type": "code",
   "execution_count": 16,
   "metadata": {},
   "outputs": [
    {
     "data": {
      "text/plain": [
       "['rana',\n",
       " 'ali',\n",
       " 'ahmed',\n",
       " 'sultan',\n",
       " 'ertugvral',\n",
       " 'muddassir',\n",
       " 'muddassir',\n",
       " 'muddassir',\n",
       " 'muddassir']"
      ]
     },
     "execution_count": 16,
     "metadata": {},
     "output_type": "execute_result"
    }
   ],
   "source": [
    "name2=name.copy() # this list opration use for copy the list \n",
    "name"
   ]
  },
  {
   "cell_type": "code",
   "execution_count": 17,
   "metadata": {},
   "outputs": [
    {
     "data": {
      "text/plain": [
       "['rana',\n",
       " 'ali',\n",
       " 'ahmed',\n",
       " 'sultan',\n",
       " 'ertugvral',\n",
       " 'muddassir',\n",
       " 'muddassir',\n",
       " 'muddassir',\n",
       " 'muddassir']"
      ]
     },
     "execution_count": 17,
     "metadata": {},
     "output_type": "execute_result"
    }
   ],
   "source": [
    "name2 # ceck list coppied k waqiye copy ban gayi hai ya nahi"
   ]
  },
  {
   "cell_type": "code",
   "execution_count": 18,
   "metadata": {},
   "outputs": [
    {
     "data": {
      "text/plain": [
       "4"
      ]
     },
     "execution_count": 18,
     "metadata": {},
     "output_type": "execute_result"
    }
   ],
   "source": [
    "name.count(\"muddassir\") #this list opration  is used to check member legnth of list"
   ]
  },
  {
   "cell_type": "code",
   "execution_count": 20,
   "metadata": {},
   "outputs": [
    {
     "data": {
      "text/plain": [
       "['rana',\n",
       " 'ali',\n",
       " 'ahmed',\n",
       " 'sultan',\n",
       " 'ertugvral',\n",
       " 'muddassir',\n",
       " 'muddassir',\n",
       " 'muddassir',\n",
       " 'muddassir',\n",
       " 'shamshad',\n",
       " 'irshad',\n",
       " 'hamza',\n",
       " 'shamshad',\n",
       " 'irshad',\n",
       " 'hamza']"
      ]
     },
     "execution_count": 20,
     "metadata": {},
     "output_type": "execute_result"
    }
   ],
   "source": [
    "name.extend([\"shamshad\",\"irshad\",\"hamza\"]) #this list opration is used to multyple number of data add the list\n",
    "name"
   ]
  },
  {
   "cell_type": "code",
   "execution_count": 22,
   "metadata": {},
   "outputs": [
    {
     "data": {
      "text/plain": [
       "1"
      ]
     },
     "execution_count": 22,
     "metadata": {},
     "output_type": "execute_result"
    }
   ],
   "source": [
    "name.index(\"ali\") # this opration check the index number of member in the list"
   ]
  },
  {
   "cell_type": "code",
   "execution_count": 24,
   "metadata": {},
   "outputs": [
    {
     "data": {
      "text/plain": [
       "[1, 2, 'ali', 'ali', 3, 4, 5, 6, 7, 8, 9, 0, 11, 12, 13, 14, 15]"
      ]
     },
     "execution_count": 24,
     "metadata": {},
     "output_type": "execute_result"
    }
   ],
   "source": [
    "num.insert(2,\"ali\") # this opration use to add member in the list with targeted location\n",
    "num"
   ]
  },
  {
   "cell_type": "code",
   "execution_count": 32,
   "metadata": {},
   "outputs": [
    {
     "data": {
      "text/plain": [
       "['rana',\n",
       " 'sultan',\n",
       " 'ertugvral',\n",
       " 'shamshad',\n",
       " 'irshad',\n",
       " 'hamza',\n",
       " 'shamshad',\n",
       " 'irshad',\n",
       " 'hamza']"
      ]
     },
     "execution_count": 32,
     "metadata": {},
     "output_type": "execute_result"
    }
   ],
   "source": [
    "name.remove(\"ahmed\") #this opratoe use to remove the member of list\n",
    "name"
   ]
  },
  {
   "cell_type": "code",
   "execution_count": 33,
   "metadata": {},
   "outputs": [
    {
     "data": {
      "text/plain": [
       "[15, 14, 13, 12, 11, 0, 9, 8, 7, 6, 5, 4, 3, 'ali', 'ali', 2, 1]"
      ]
     },
     "execution_count": 33,
     "metadata": {},
     "output_type": "execute_result"
    }
   ],
   "source": [
    "num.reverse() # this oprator is use to revers all list \n",
    "num"
   ]
  },
  {
   "cell_type": "code",
   "execution_count": 34,
   "metadata": {},
   "outputs": [
    {
     "data": {
      "text/plain": [
       "[15, 14, 12, 11, 0, 9, 8, 7, 6, 5, 4, 3, 'ali', 'ali', 2, 1]"
      ]
     },
     "execution_count": 34,
     "metadata": {},
     "output_type": "execute_result"
    }
   ],
   "source": [
    "del num[2] # del use to member by index number\n",
    "num"
   ]
  },
  {
   "cell_type": "code",
   "execution_count": 36,
   "metadata": {},
   "outputs": [
    {
     "data": {
      "text/plain": [
       "['ertugvral',\n",
       " 'hamza',\n",
       " 'hamza',\n",
       " 'irshad',\n",
       " 'irshad',\n",
       " 'rana',\n",
       " 'shamshad',\n",
       " 'shamshad',\n",
       " 'sultan']"
      ]
     },
     "execution_count": 36,
     "metadata": {},
     "output_type": "execute_result"
    }
   ],
   "source": [
    "name.sort() # this oprator use to maintain series by correct way sorting list\n",
    "name"
   ]
  },
  {
   "cell_type": "code",
   "execution_count": 37,
   "metadata": {},
   "outputs": [
    {
     "name": "stdout",
     "output_type": "stream",
     "text": [
      "['hamza', 'hamza', 'irshad', 'irshad']\n"
     ]
    }
   ],
   "source": [
    "print(name[1:5])"
   ]
  },
  {
   "cell_type": "code",
   "execution_count": 40,
   "metadata": {},
   "outputs": [
    {
     "data": {
      "text/plain": [
       "[0, 3, 4, 5, 6, 7]"
      ]
     },
     "execution_count": 40,
     "metadata": {},
     "output_type": "execute_result"
    }
   ],
   "source": [
    "num[0:6] #slicing metthod"
   ]
  },
  {
   "cell_type": "code",
   "execution_count": 47,
   "metadata": {},
   "outputs": [],
   "source": [
    "num=[1,2,3,4,5,6,7,8,9,10,11,12,13,14]\n"
   ]
  },
  {
   "cell_type": "code",
   "execution_count": 49,
   "metadata": {},
   "outputs": [
    {
     "data": {
      "text/plain": [
       "[34.6, 7.6]"
      ]
     },
     "execution_count": 49,
     "metadata": {},
     "output_type": "execute_result"
    }
   ],
   "source": [
    "float[1:3]"
   ]
  },
  {
   "cell_type": "code",
   "execution_count": 50,
   "metadata": {},
   "outputs": [
    {
     "data": {
      "text/plain": [
       "[1.2, 34.6, 7.6, 8.0, 22.22]"
      ]
     },
     "execution_count": 50,
     "metadata": {},
     "output_type": "execute_result"
    }
   ],
   "source": [
    "float\n"
   ]
  },
  {
   "cell_type": "markdown",
   "metadata": {},
   "source": [
    "# no=[1,2,3,4,5,6,7,8,9,0]"
   ]
  },
  {
   "cell_type": "code",
   "execution_count": 53,
   "metadata": {},
   "outputs": [
    {
     "data": {
      "text/plain": [
       "[2, 4, 6, 8]"
      ]
     },
     "execution_count": 53,
     "metadata": {},
     "output_type": "execute_result"
    }
   ],
   "source": [
    "no[1:9:2] #slicing step name[start:end:gap]"
   ]
  },
  {
   "cell_type": "markdown",
   "metadata": {},
   "source": [
    "# tupple"
   ]
  },
  {
   "cell_type": "code",
   "execution_count": 56,
   "metadata": {},
   "outputs": [],
   "source": [
    "#tupple\n",
    "\n",
    "name=(\"ali\",\"ran\",\"mudi\") #this tupple it is imutable no vhange delte etc \n"
   ]
  },
  {
   "cell_type": "code",
   "execution_count": 59,
   "metadata": {},
   "outputs": [
    {
     "data": {
      "text/plain": [
       "('ali', 'ran', 'mudi')"
      ]
     },
     "execution_count": 59,
     "metadata": {},
     "output_type": "execute_result"
    }
   ],
   "source": [
    "name"
   ]
  },
  {
   "cell_type": "markdown",
   "metadata": {},
   "source": [
    "# if_statement"
   ]
  },
  {
   "cell_type": "code",
   "execution_count": 61,
   "metadata": {},
   "outputs": [
    {
     "name": "stdout",
     "output_type": "stream",
     "text": [
      "this is write\n",
      "task complete\n"
     ]
    }
   ],
   "source": [
    "a=10\n",
    "b=15\n",
    "if a<b:\n",
    "    print(\"this is write\")\n",
    "    print(\"task complete\")\n",
    "if a>b:\n",
    "    print(\"false\")\n",
    "    print (\"tasl complete\")"
   ]
  },
  {
   "cell_type": "code",
   "execution_count": null,
   "metadata": {},
   "outputs": [],
   "source": []
  }
 ],
 "metadata": {
  "kernelspec": {
   "display_name": "Python 3",
   "language": "python",
   "name": "python3"
  },
  "language_info": {
   "codemirror_mode": {
    "name": "ipython",
    "version": 3
   },
   "file_extension": ".py",
   "mimetype": "text/x-python",
   "name": "python",
   "nbconvert_exporter": "python",
   "pygments_lexer": "ipython3",
   "version": "3.7.6"
  }
 },
 "nbformat": 4,
 "nbformat_minor": 4
}
