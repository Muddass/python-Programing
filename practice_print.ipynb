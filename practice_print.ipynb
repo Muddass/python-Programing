{
 "cells": [
  {
   "cell_type": "code",
   "execution_count": 1,
   "metadata": {},
   "outputs": [
    {
     "name": "stdout",
     "output_type": "stream",
     "text": [
      "\n"
     ]
    }
   ],
   "source": [
    "print()"
   ]
  },
  {
   "cell_type": "code",
   "execution_count": 2,
   "metadata": {},
   "outputs": [
    {
     "name": "stdout",
     "output_type": "stream",
     "text": [
      "1000\n"
     ]
    }
   ],
   "source": [
    "print(1000)"
   ]
  },
  {
   "cell_type": "code",
   "execution_count": 3,
   "metadata": {},
   "outputs": [
    {
     "name": "stdout",
     "output_type": "stream",
     "text": [
      "123 123\n"
     ]
    }
   ],
   "source": [
    "print(123,123)"
   ]
  },
  {
   "cell_type": "code",
   "execution_count": 4,
   "metadata": {},
   "outputs": [
    {
     "name": "stdout",
     "output_type": "stream",
     "text": [
      "my first program in python\n"
     ]
    }
   ],
   "source": [
    "print(\"my first program in python\")"
   ]
  },
  {
   "cell_type": "code",
   "execution_count": 5,
   "metadata": {},
   "outputs": [
    {
     "name": "stdout",
     "output_type": "stream",
     "text": [
      "python\n"
     ]
    }
   ],
   "source": [
    "print(\"python\")#string"
   ]
  },
  {
   "cell_type": "code",
   "execution_count": 6,
   "metadata": {},
   "outputs": [
    {
     "name": "stdout",
     "output_type": "stream",
     "text": [
      "234 34.4\n"
     ]
    }
   ],
   "source": [
    "print(234,34.4) #float"
   ]
  },
  {
   "cell_type": "code",
   "execution_count": 7,
   "metadata": {},
   "outputs": [
    {
     "name": "stdout",
     "output_type": "stream",
     "text": [
      "ali ahmed noor\n"
     ]
    }
   ],
   "source": [
    "print(\"ali\",\"ahmed\",\"noor\")"
   ]
  },
  {
   "cell_type": "code",
   "execution_count": 10,
   "metadata": {},
   "outputs": [
    {
     "name": "stdout",
     "output_type": "stream",
     "text": [
      "aliahmednoor\n"
     ]
    }
   ],
   "source": [
    "print(\"ali\",\"ahmed\",\"noor\", sep=\"\" )"
   ]
  },
  {
   "cell_type": "code",
   "execution_count": 14,
   "metadata": {},
   "outputs": [
    {
     "name": "stdout",
     "output_type": "stream",
     "text": [
      "ali  ahmed  noor\n"
     ]
    }
   ],
   "source": [
    "print(\"ali\",\"ahmed\",\"noor\", sep=\"  \" )"
   ]
  },
  {
   "cell_type": "code",
   "execution_count": 15,
   "metadata": {},
   "outputs": [
    {
     "name": "stdout",
     "output_type": "stream",
     "text": [
      "ali#@$ahmed#@$noor\n"
     ]
    }
   ],
   "source": [
    "print(\"ali\",\"ahmed\",\"noor\", sep=\"#@$\" )"
   ]
  },
  {
   "cell_type": "code",
   "execution_count": 16,
   "metadata": {},
   "outputs": [
    {
     "name": "stdout",
     "output_type": "stream",
     "text": [
      "alisepratorahmedsepratornoor\n"
     ]
    }
   ],
   "source": [
    "print(\"ali\",\"ahmed\",\"noor\", sep=\"seprator\")"
   ]
  },
  {
   "cell_type": "code",
   "execution_count": 17,
   "metadata": {},
   "outputs": [
    {
     "name": "stdout",
     "output_type": "stream",
     "text": [
      "ali    ahmed    noor\n"
     ]
    }
   ],
   "source": [
    "print(\"ali\",\"ahmed\",\"noor\", sep=\"    \" )"
   ]
  },
  {
   "cell_type": "code",
   "execution_count": 18,
   "metadata": {},
   "outputs": [
    {
     "name": "stdout",
     "output_type": "stream",
     "text": [
      "fahad\n",
      "hamza\n",
      "anas\n"
     ]
    }
   ],
   "source": [
    "print(\"fahad\")\n",
    "print(\"hamza\")\n",
    "print(\"anas\")"
   ]
  },
  {
   "cell_type": "code",
   "execution_count": 19,
   "metadata": {},
   "outputs": [
    {
     "name": "stdout",
     "output_type": "stream",
     "text": [
      "fahadhamzaanas\n"
     ]
    }
   ],
   "source": [
    "print(\"fahad\",end=\"\")\n",
    "print(\"hamza\",end=\"\")\n",
    "print(\"anas\")"
   ]
  },
  {
   "cell_type": "code",
   "execution_count": 20,
   "metadata": {},
   "outputs": [
    {
     "name": "stdout",
     "output_type": "stream",
     "text": [
      "fahad\n",
      "\n",
      "hamza\n",
      "\n",
      "anas\n"
     ]
    }
   ],
   "source": [
    "print(\"fahad\",end=\"\\n\\n\")\n",
    "print(\"hamza\",end=\"\\n\\n\")\n",
    "print(\"anas\")"
   ]
  },
  {
   "cell_type": "code",
   "execution_count": 21,
   "metadata": {},
   "outputs": [
    {
     "name": "stdout",
     "output_type": "stream",
     "text": [
      "fahad\t\thamza\t\t\tanas\n"
     ]
    }
   ],
   "source": [
    "print(\"fahad\",end=\"\\t\\t\")\n",
    "print(\"hamza\",end=\"\\t\\t\\t\")\n",
    "print(\"anas\")"
   ]
  },
  {
   "cell_type": "code",
   "execution_count": 22,
   "metadata": {},
   "outputs": [
    {
     "name": "stdout",
     "output_type": "stream",
     "text": [
      "fahad\n",
      "\t\thamza\n",
      "\tanas\n"
     ]
    }
   ],
   "source": [
    "print(\"fahad\",end=\"\\n\\t\\t\")\n",
    "print(\"hamza\",end=\"\\n\\t\")\n",
    "print(\"anas\")"
   ]
  },
  {
   "cell_type": "code",
   "execution_count": 23,
   "metadata": {},
   "outputs": [
    {
     "name": "stdout",
     "output_type": "stream",
     "text": [
      "muddassir'ali\n"
     ]
    }
   ],
   "source": [
    "print(\"muddassir\\'ali\")"
   ]
  },
  {
   "cell_type": "code",
   "execution_count": 24,
   "metadata": {},
   "outputs": [
    {
     "name": "stdout",
     "output_type": "stream",
     "text": [
      "muddassir ali\\ rana\n"
     ]
    }
   ],
   "source": [
    "print(\"muddassir ali\\\\ rana\")"
   ]
  },
  {
   "cell_type": "code",
   "execution_count": 32,
   "metadata": {},
   "outputs": [
    {
     "name": "stdout",
     "output_type": "stream",
     "text": [
      "fahad\r",
      "ali\n"
     ]
    }
   ],
   "source": [
    "print(\"fahad\\rali\")"
   ]
  },
  {
   "cell_type": "code",
   "execution_count": 33,
   "metadata": {},
   "outputs": [
    {
     "name": "stdout",
     "output_type": "stream",
     "text": [
      "hello \bworld!\n"
     ]
    }
   ],
   "source": [
    "print(\"hello \\bworld!\")"
   ]
  },
  {
   "cell_type": "code",
   "execution_count": 34,
   "metadata": {},
   "outputs": [
    {
     "name": "stdout",
     "output_type": "stream",
     "text": [
      "hello \f",
      " world\n"
     ]
    }
   ],
   "source": [
    "print(\"hello \\f world\")"
   ]
  },
  {
   "cell_type": "code",
   "execution_count": 35,
   "metadata": {},
   "outputs": [
    {
     "name": "stdout",
     "output_type": "stream",
     "text": [
      "hello\\ooo\n"
     ]
    }
   ],
   "source": [
    "print(\"hello\\ooo\")"
   ]
  },
  {
   "cell_type": "code",
   "execution_count": null,
   "metadata": {},
   "outputs": [],
   "source": []
  }
 ],
 "metadata": {
  "kernelspec": {
   "display_name": "Python 3",
   "language": "python",
   "name": "python3"
  },
  "language_info": {
   "codemirror_mode": {
    "name": "ipython",
    "version": 3
   },
   "file_extension": ".py",
   "mimetype": "text/x-python",
   "name": "python",
   "nbconvert_exporter": "python",
   "pygments_lexer": "ipython3",
   "version": "3.7.6"
  }
 },
 "nbformat": 4,
 "nbformat_minor": 4
}
