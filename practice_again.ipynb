{
 "cells": [
  {
   "cell_type": "markdown",
   "metadata": {},
   "source": [
    "# print\n"
   ]
  },
  {
   "cell_type": "code",
   "execution_count": 1,
   "metadata": {},
   "outputs": [
    {
     "name": "stdout",
     "output_type": "stream",
     "text": [
      "123\n"
     ]
    }
   ],
   "source": [
    "print(123) #integer no print"
   ]
  },
  {
   "cell_type": "code",
   "execution_count": 2,
   "metadata": {},
   "outputs": [
    {
     "name": "stdout",
     "output_type": "stream",
     "text": [
      "muddassir ali rana\n"
     ]
    }
   ],
   "source": [
    "print(\"muddassir ali rana\") # string word print\n"
   ]
  },
  {
   "cell_type": "code",
   "execution_count": 3,
   "metadata": {},
   "outputs": [
    {
     "name": "stdout",
     "output_type": "stream",
     "text": [
      "20.56\n"
     ]
    }
   ],
   "source": [
    "print(20.56) #float no print"
   ]
  },
  {
   "cell_type": "code",
   "execution_count": 4,
   "metadata": {},
   "outputs": [
    {
     "name": "stdout",
     "output_type": "stream",
     "text": [
      "20 30 40.3 ali rana 22\n"
     ]
    }
   ],
   "source": [
    "print(20,30,40.3,\"ali\",\"rana\",22) #one and more value combination"
   ]
  },
  {
   "cell_type": "code",
   "execution_count": 13,
   "metadata": {},
   "outputs": [
    {
     "name": "stdout",
     "output_type": "stream",
     "text": [
      "muddassiralirana\n",
      "muddassir ali rana\n",
      "muddassir##ali##rana\n",
      "muddassir__ali__rana\n"
     ]
    }
   ],
   "source": [
    "print(\"muddassir\",\"ali\",\"rana\" ,sep=\"\") # seprator fun use difrent categories\n",
    "print(\"muddassir\",\"ali\",\"rana\" ,sep=\" \")\n",
    "print(\"muddassir\",\"ali\",\"rana\" ,sep=\"##\")\n",
    "print(\"muddassir\",\"ali\",\"rana\" ,sep=\"__\")"
   ]
  },
  {
   "cell_type": "code",
   "execution_count": 23,
   "metadata": {},
   "outputs": [
    {
     "name": "stdout",
     "output_type": "stream",
     "text": [
      "muddassir ali rana\tmuddassir ali rana'muddassir ali rana\\#muddassir ali rana\n"
     ]
    }
   ],
   "source": [
    "print(\"muddassir ali rana\", end=\"\\t\")\n",
    "print(\"muddassir ali rana\", end=\"\\'\") #use end escap charachter\n",
    "print(\"muddassir ali rana\", end=\"\\#\")\n",
    "print(\"muddassir ali rana\")"
   ]
  },
  {
   "cell_type": "markdown",
   "metadata": {},
   "source": [
    "# variable\n"
   ]
  },
  {
   "cell_type": "code",
   "execution_count": 24,
   "metadata": {},
   "outputs": [
    {
     "name": "stdout",
     "output_type": "stream",
     "text": [
      "10\n"
     ]
    }
   ],
   "source": [
    "a= 10 # intialize vale\n",
    "print(a)  # get value"
   ]
  },
  {
   "cell_type": "code",
   "execution_count": 37,
   "metadata": {},
   "outputs": [
    {
     "name": "stdout",
     "output_type": "stream",
     "text": [
      "20.89\n"
     ]
    }
   ],
   "source": [
    "b=20.89\n",
    "print(b)"
   ]
  },
  {
   "cell_type": "code",
   "execution_count": 31,
   "metadata": {},
   "outputs": [
    {
     "name": "stdout",
     "output_type": "stream",
     "text": [
      "muddassir ali shamshad\n"
     ]
    }
   ],
   "source": [
    "stu_name=\"muddassir ali\"\n",
    "f_name=\" shamshad\"\n",
    "c=stu_name +   f_name\n",
    "#print(stu_name +   f_name)\n",
    "print(c)"
   ]
  },
  {
   "cell_type": "code",
   "execution_count": 40,
   "metadata": {},
   "outputs": [
    {
     "data": {
      "text/plain": [
       "int"
      ]
     },
     "execution_count": 40,
     "metadata": {},
     "output_type": "execute_result"
    }
   ],
   "source": [
    "type(a)\n",
    " # chech data type of variable\n"
   ]
  },
  {
   "cell_type": "code",
   "execution_count": 38,
   "metadata": {},
   "outputs": [
    {
     "data": {
      "text/plain": [
       "float"
      ]
     },
     "execution_count": 38,
     "metadata": {},
     "output_type": "execute_result"
    }
   ],
   "source": [
    "type(b)\n"
   ]
  },
  {
   "cell_type": "code",
   "execution_count": 36,
   "metadata": {},
   "outputs": [
    {
     "data": {
      "text/plain": [
       "str"
      ]
     },
     "execution_count": 36,
     "metadata": {},
     "output_type": "execute_result"
    }
   ],
   "source": [
    "type(c)"
   ]
  },
  {
   "cell_type": "code",
   "execution_count": 39,
   "metadata": {},
   "outputs": [
    {
     "name": "stdout",
     "output_type": "stream",
     "text": [
      "(10, 20)\n"
     ]
    }
   ],
   "source": [
    "v=10,20\n",
    "print(v)  # save in more value in variable"
   ]
  },
  {
   "cell_type": "markdown",
   "metadata": {},
   "source": [
    "# math oprator"
   ]
  },
  {
   "cell_type": "code",
   "execution_count": 41,
   "metadata": {},
   "outputs": [
    {
     "name": "stdout",
     "output_type": "stream",
     "text": [
      "50\n"
     ]
    }
   ],
   "source": [
    "#addition\n",
    "value_1=20\n",
    "value_2=30\n",
    "result=value_1 + value_2\n",
    "print(result)"
   ]
  },
  {
   "cell_type": "code",
   "execution_count": 42,
   "metadata": {},
   "outputs": [
    {
     "name": "stdout",
     "output_type": "stream",
     "text": [
      "-10\n"
     ]
    }
   ],
   "source": [
    "#subtraction\n",
    "value_1=20\n",
    "value_2=30\n",
    "result=value_1 - value_2\n",
    "print(result)"
   ]
  },
  {
   "cell_type": "code",
   "execution_count": 43,
   "metadata": {},
   "outputs": [
    {
     "name": "stdout",
     "output_type": "stream",
     "text": [
      "600\n"
     ]
    }
   ],
   "source": [
    "#multiplication\n",
    "value_1=20\n",
    "value_2=30\n",
    "result=value_1 * value_2\n",
    "print(result)"
   ]
  },
  {
   "cell_type": "code",
   "execution_count": 44,
   "metadata": {},
   "outputs": [
    {
     "name": "stdout",
     "output_type": "stream",
     "text": [
      "0.6666666666666666\n"
     ]
    }
   ],
   "source": [
    "#division result in always in float\n",
    "value_1=20\n",
    "value_2=30\n",
    "result=value_1 / value_2\n",
    "print(result)"
   ]
  },
  {
   "cell_type": "markdown",
   "metadata": {},
   "source": [
    "# if statemnet"
   ]
  },
  {
   "cell_type": "code",
   "execution_count": 61,
   "metadata": {},
   "outputs": [
    {
     "name": "stdout",
     "output_type": "stream",
     "text": [
      "a is less than b\n",
      "pakistan\n"
     ]
    }
   ],
   "source": [
    "a= 1\n",
    "b=5\n",
    "if a<b:\n",
    "    print(\"a is less than b\")\n",
    "if b<a:\n",
    "        print(\"b is less than a\")\n",
    "print(\"pakistan\")"
   ]
  },
  {
   "cell_type": "markdown",
   "metadata": {},
   "source": [
    "# input"
   ]
  },
  {
   "cell_type": "code",
   "execution_count": 2,
   "metadata": {},
   "outputs": [
    {
     "name": "stdout",
     "output_type": "stream",
     "text": [
      "use input function\n",
      "please text heremuddassir alu\n"
     ]
    },
    {
     "data": {
      "text/plain": [
       "'muddassir alu'"
      ]
     },
     "execution_count": 2,
     "metadata": {},
     "output_type": "execute_result"
    }
   ],
   "source": [
    "print(\"use input function\")\n",
    "input(\"please text here\")"
   ]
  },
  {
   "cell_type": "markdown",
   "metadata": {},
   "source": [
    "# list"
   ]
  },
  {
   "cell_type": "code",
   "execution_count": 4,
   "metadata": {},
   "outputs": [],
   "source": [
    "name=[\"muddassir\",\"ali\",\"rana\",\"fahad\",\"waqas\"]\n",
    "num=[1,2,3,4,5,6,7,8,9]\n",
    "float_list=[20.3,4.6,0.9]\n",
    "mix_list=[1,2,\"shamshad\",2.6,\"pakistan\"]\n"
   ]
  },
  {
   "cell_type": "code",
   "execution_count": 5,
   "metadata": {},
   "outputs": [
    {
     "data": {
      "text/plain": [
       "5"
      ]
     },
     "execution_count": 5,
     "metadata": {},
     "output_type": "execute_result"
    }
   ],
   "source": [
    "len(name) # check length of list"
   ]
  },
  {
   "cell_type": "code",
   "execution_count": 6,
   "metadata": {},
   "outputs": [],
   "source": [
    "name.append(\"indus\") # for use in adding element in list"
   ]
  },
  {
   "cell_type": "code",
   "execution_count": 7,
   "metadata": {},
   "outputs": [
    {
     "name": "stdout",
     "output_type": "stream",
     "text": [
      "['muddassir', 'ali', 'rana', 'fahad', 'waqas', 'indus']\n"
     ]
    }
   ],
   "source": [
    "print(name)"
   ]
  },
  {
   "cell_type": "code",
   "execution_count": 8,
   "metadata": {},
   "outputs": [],
   "source": [
    "name.insert(2,\"uni\")# this function use for adding element with index "
   ]
  },
  {
   "cell_type": "code",
   "execution_count": 9,
   "metadata": {},
   "outputs": [
    {
     "name": "stdout",
     "output_type": "stream",
     "text": [
      "['muddassir', 'ali', 'uni', 'rana', 'fahad', 'waqas', 'indus']\n"
     ]
    }
   ],
   "source": [
    "print(name)\n"
   ]
  },
  {
   "cell_type": "code",
   "execution_count": 10,
   "metadata": {},
   "outputs": [],
   "source": [
    "name.extend([\"ami\",\"abu\",\"bhai\"])  # multiple element add karwany k liye"
   ]
  },
  {
   "cell_type": "code",
   "execution_count": 11,
   "metadata": {},
   "outputs": [
    {
     "name": "stdout",
     "output_type": "stream",
     "text": [
      "['muddassir', 'ali', 'uni', 'rana', 'fahad', 'waqas', 'indus', 'ami', 'abu', 'bhai']\n"
     ]
    }
   ],
   "source": [
    "print(name)\n",
    "\n"
   ]
  },
  {
   "cell_type": "code",
   "execution_count": 13,
   "metadata": {},
   "outputs": [
    {
     "data": {
      "text/plain": [
       "1"
      ]
     },
     "execution_count": 13,
     "metadata": {},
     "output_type": "execute_result"
    }
   ],
   "source": [
    "name.count(\"ali\") # count element in the list"
   ]
  },
  {
   "cell_type": "code",
   "execution_count": 15,
   "metadata": {},
   "outputs": [
    {
     "data": {
      "text/plain": [
       "8"
      ]
     },
     "execution_count": 15,
     "metadata": {},
     "output_type": "execute_result"
    }
   ],
   "source": [
    "name.index(\"abu\") #find index of the element"
   ]
  },
  {
   "cell_type": "code",
   "execution_count": 16,
   "metadata": {},
   "outputs": [],
   "source": [
    "name1=name.copy() # copy banany k liye"
   ]
  },
  {
   "cell_type": "code",
   "execution_count": 17,
   "metadata": {},
   "outputs": [
    {
     "data": {
      "text/plain": [
       "['muddassir',\n",
       " 'ali',\n",
       " 'uni',\n",
       " 'rana',\n",
       " 'fahad',\n",
       " 'waqas',\n",
       " 'indus',\n",
       " 'ami',\n",
       " 'abu',\n",
       " 'bhai']"
      ]
     },
     "execution_count": 17,
     "metadata": {},
     "output_type": "execute_result"
    }
   ],
   "source": [
    "name1"
   ]
  },
  {
   "cell_type": "code",
   "execution_count": 18,
   "metadata": {},
   "outputs": [],
   "source": [
    "name.clear() # clear the list permentally"
   ]
  },
  {
   "cell_type": "code",
   "execution_count": 19,
   "metadata": {},
   "outputs": [
    {
     "data": {
      "text/plain": [
       "[]"
      ]
     },
     "execution_count": 19,
     "metadata": {},
     "output_type": "execute_result"
    }
   ],
   "source": [
    "name"
   ]
  },
  {
   "cell_type": "code",
   "execution_count": 20,
   "metadata": {},
   "outputs": [],
   "source": [
    "del name1[2] # for deleting index in the list"
   ]
  },
  {
   "cell_type": "code",
   "execution_count": 21,
   "metadata": {},
   "outputs": [
    {
     "data": {
      "text/plain": [
       "['muddassir', 'ali', 'rana', 'fahad', 'waqas', 'indus', 'ami', 'abu', 'bhai']"
      ]
     },
     "execution_count": 21,
     "metadata": {},
     "output_type": "execute_result"
    }
   ],
   "source": [
    "name1"
   ]
  },
  {
   "cell_type": "code",
   "execution_count": 22,
   "metadata": {},
   "outputs": [],
   "source": [
    "name1.remove(\"rana\") # remove element in  the list"
   ]
  },
  {
   "cell_type": "code",
   "execution_count": 23,
   "metadata": {},
   "outputs": [
    {
     "data": {
      "text/plain": [
       "['muddassir', 'ali', 'fahad', 'waqas', 'indus', 'ami', 'abu', 'bhai']"
      ]
     },
     "execution_count": 23,
     "metadata": {},
     "output_type": "execute_result"
    }
   ],
   "source": [
    "name1"
   ]
  },
  {
   "cell_type": "code",
   "execution_count": 24,
   "metadata": {},
   "outputs": [],
   "source": [
    "name1.sort()"
   ]
  },
  {
   "cell_type": "code",
   "execution_count": 25,
   "metadata": {},
   "outputs": [
    {
     "data": {
      "text/plain": [
       "['abu', 'ali', 'ami', 'bhai', 'fahad', 'indus', 'muddassir', 'waqas']"
      ]
     },
     "execution_count": 25,
     "metadata": {},
     "output_type": "execute_result"
    }
   ],
   "source": [
    "name1"
   ]
  },
  {
   "cell_type": "code",
   "execution_count": 26,
   "metadata": {},
   "outputs": [],
   "source": [
    "name1.reverse()"
   ]
  },
  {
   "cell_type": "code",
   "execution_count": 27,
   "metadata": {},
   "outputs": [
    {
     "data": {
      "text/plain": [
       "['waqas', 'muddassir', 'indus', 'fahad', 'bhai', 'ami', 'ali', 'abu']"
      ]
     },
     "execution_count": 27,
     "metadata": {},
     "output_type": "execute_result"
    }
   ],
   "source": [
    "name1"
   ]
  },
  {
   "cell_type": "code",
   "execution_count": 37,
   "metadata": {},
   "outputs": [
    {
     "data": {
      "text/plain": [
       "[1, 2, 3, 4]"
      ]
     },
     "execution_count": 37,
     "metadata": {},
     "output_type": "execute_result"
    }
   ],
   "source": [
    "num[0:4]"
   ]
  },
  {
   "cell_type": "code",
   "execution_count": 38,
   "metadata": {},
   "outputs": [
    {
     "data": {
      "text/plain": [
       "['waqas', 'muddassir', 'indus', 'fahad', 'bhai']"
      ]
     },
     "execution_count": 38,
     "metadata": {},
     "output_type": "execute_result"
    }
   ],
   "source": [
    "name1[0:5]"
   ]
  },
  {
   "cell_type": "markdown",
   "metadata": {},
   "source": [
    "# tuple"
   ]
  },
  {
   "cell_type": "code",
   "execution_count": 39,
   "metadata": {},
   "outputs": [],
   "source": [
    "bike=(\"yamaha\",\"superpo\\wer\",\"honda\")"
   ]
  },
  {
   "cell_type": "code",
   "execution_count": 40,
   "metadata": {},
   "outputs": [],
   "source": [
    "mixx=(1,\"ali\",2.5,\"rana\")"
   ]
  },
  {
   "cell_type": "code",
   "execution_count": 41,
   "metadata": {},
   "outputs": [
    {
     "data": {
      "text/plain": [
       "(1, 'ali', 2.5, 'rana')"
      ]
     },
     "execution_count": 41,
     "metadata": {},
     "output_type": "execute_result"
    }
   ],
   "source": [
    "mixx"
   ]
  },
  {
   "cell_type": "code",
   "execution_count": 42,
   "metadata": {},
   "outputs": [
    {
     "data": {
      "text/plain": [
       "3"
      ]
     },
     "execution_count": 42,
     "metadata": {},
     "output_type": "execute_result"
    }
   ],
   "source": [
    "len(bike)"
   ]
  },
  {
   "cell_type": "code",
   "execution_count": 43,
   "metadata": {},
   "outputs": [
    {
     "data": {
      "text/plain": [
       "'honda'"
      ]
     },
     "execution_count": 43,
     "metadata": {},
     "output_type": "execute_result"
    }
   ],
   "source": [
    "bike[2]"
   ]
  },
  {
   "cell_type": "markdown",
   "metadata": {},
   "source": [
    "# loops"
   ]
  },
  {
   "cell_type": "code",
   "execution_count": 48,
   "metadata": {},
   "outputs": [
    {
     "name": "stdout",
     "output_type": "stream",
     "text": [
      "ali\n",
      "ali\n",
      "ali\n",
      "ali\n",
      "ali\n",
      "ali\n",
      "ali\n",
      "ali\n",
      "ali\n",
      "ali\n"
     ]
    }
   ],
   "source": [
    "a=\"ali\"\n",
    "for a in range (10):\n",
    "    print(\"ali\")\n",
    "    "
   ]
  },
  {
   "cell_type": "code",
   "execution_count": 50,
   "metadata": {},
   "outputs": [
    {
     "name": "stdout",
     "output_type": "stream",
     "text": [
      "0\n",
      "1\n",
      "2\n",
      "3\n",
      "4\n",
      "5\n",
      "6\n",
      "7\n",
      "8\n",
      "9\n"
     ]
    }
   ],
   "source": [
    "# num=[1,2,3,4,5,6,7,8,9]\n",
    "for num in range (10):\n",
    "    print(num)"
   ]
  },
  {
   "cell_type": "code",
   "execution_count": 51,
   "metadata": {},
   "outputs": [
    {
     "name": "stdout",
     "output_type": "stream",
     "text": [
      "1\n",
      "2\n",
      "3\n",
      "4\n",
      "5\n",
      "6\n",
      "7\n",
      "8\n",
      "9\n"
     ]
    }
   ],
   "source": [
    "for num in range (1,10):\n",
    "    print(num)"
   ]
  },
  {
   "cell_type": "code",
   "execution_count": 52,
   "metadata": {},
   "outputs": [
    {
     "name": "stdout",
     "output_type": "stream",
     "text": [
      "0\n",
      "2\n",
      "4\n",
      "6\n",
      "8\n",
      "10\n"
     ]
    }
   ],
   "source": [
    "for num in range (0,12,2):\n",
    "    print(num)"
   ]
  },
  {
   "cell_type": "code",
   "execution_count": 54,
   "metadata": {},
   "outputs": [
    {
     "name": "stdout",
     "output_type": "stream",
     "text": [
      "the name is {name}\n",
      "the name is {name}\n",
      "the name is {name}\n",
      "the name is {name}\n"
     ]
    }
   ],
   "source": [
    "\n",
    "for name in names:\n",
    "    print(\"the name is {name}\")"
   ]
  },
  {
   "cell_type": "code",
   "execution_count": 55,
   "metadata": {},
   "outputs": [
    {
     "name": "stdout",
     "output_type": "stream",
     "text": [
      "18\n",
      "21\n",
      "33\n",
      "47\n",
      "55\n",
      "62\n"
     ]
    }
   ],
   "source": [
    "no=[18,21,33,47,55,62]\n",
    "for num in no:\n",
    "    print(num)"
   ]
  },
  {
   "cell_type": "code",
   "execution_count": 57,
   "metadata": {},
   "outputs": [
    {
     "name": "stdout",
     "output_type": "stream",
     "text": [
      "ali\n",
      "rana\n",
      "hamza\n",
      "fuei\n"
     ]
    }
   ],
   "source": [
    "names=[\"ali\",\"rana\",\"hamza\",\"fuei\"]\n",
    "for name in names:\n",
    "print(name)"
   ]
  },
  {
   "cell_type": "code",
   "execution_count": 58,
   "metadata": {},
   "outputs": [
    {
     "name": "stdout",
     "output_type": "stream",
     "text": [
      "pakistan\n",
      "india\n"
     ]
    }
   ],
   "source": [
    "country=\"pakistan\",\"india\"\n",
    "for char in country:\n",
    "    print(char)"
   ]
  },
  {
   "cell_type": "code",
   "execution_count": 60,
   "metadata": {},
   "outputs": [
    {
     "name": "stdout",
     "output_type": "stream",
     "text": [
      "0\n",
      "1\n",
      "2\n",
      "3\n",
      "4\n"
     ]
    }
   ],
   "source": [
    "for num in range (13):\n",
    "    if num==5:\n",
    "        break\n",
    "    print(num)\n",
    "          "
   ]
  },
  {
   "cell_type": "code",
   "execution_count": 67,
   "metadata": {},
   "outputs": [
    {
     "name": "stdout",
     "output_type": "stream",
     "text": [
      "13\n"
     ]
    }
   ],
   "source": [
    "for num in [13,5,7,9,14]:\n",
    "    if num %6!=1:\n",
    "        break\n",
    "    print(num)   "
   ]
  },
  {
   "cell_type": "code",
   "execution_count": 66,
   "metadata": {},
   "outputs": [
    {
     "name": "stdout",
     "output_type": "stream",
     "text": [
      "0\n",
      "1\n",
      "2\n",
      "4\n",
      "5\n",
      "6\n",
      "7\n",
      "9\n",
      "10\n"
     ]
    }
   ],
   "source": [
    "#continue keyword\n",
    "for num in range(11):\n",
    "    if num==3 or num==8:\n",
    "        continue\n",
    "    print(num)"
   ]
  },
  {
   "cell_type": "code",
   "execution_count": 15,
   "metadata": {},
   "outputs": [
    {
     "name": "stdout",
     "output_type": "stream",
     "text": [
      "ali rana rajput\n",
      "ali rana rajput\n",
      "ali rana rajput\n",
      "ali rana rajput\n",
      "ali rana rajput\n",
      "ali rana rajput\n",
      "ali rana rajput\n",
      "ali rana rajput\n",
      "ali rana rajput\n",
      "ali rana rajput\n"
     ]
    }
   ],
   "source": [
    "for a in range (10):\n",
    "    print(\"ali rana rajput\")"
   ]
  },
  {
   "cell_type": "code",
   "execution_count": 16,
   "metadata": {},
   "outputs": [
    {
     "name": "stdout",
     "output_type": "stream",
     "text": [
      "p\n",
      "a\n",
      "k\n",
      "i\n",
      "s\n",
      "t\n",
      "a\n",
      "n\n"
     ]
    }
   ],
   "source": [
    "con=\"pakistan\"\n",
    "for char in con:\n",
    "    print(char)"
   ]
  },
  {
   "cell_type": "markdown",
   "metadata": {},
   "source": [
    "# break in loop"
   ]
  },
  {
   "cell_type": "code",
   "execution_count": 25,
   "metadata": {},
   "outputs": [
    {
     "name": "stdout",
     "output_type": "stream",
     "text": [
      "0\n",
      "1\n",
      "2\n",
      "3\n",
      "4\n",
      "5\n",
      "6\n",
      "7\n",
      "8\n"
     ]
    }
   ],
   "source": [
    "for num in range (20):\n",
    "    if num ==9:\n",
    "        break\n",
    "    print(num)"
   ]
  },
  {
   "cell_type": "code",
   "execution_count": 1,
   "metadata": {},
   "outputs": [
    {
     "name": "stdout",
     "output_type": "stream",
     "text": [
      "0\n",
      "1\n",
      "2\n",
      "3\n",
      "4\n",
      "6\n",
      "7\n",
      "8\n",
      "10\n",
      "11\n",
      "12\n",
      "13\n",
      "14\n"
     ]
    }
   ],
   "source": [
    "for num in range(15):\n",
    "    if num==5 or num==9:\n",
    "        continue\n",
    "    print(num)"
   ]
  },
  {
   "cell_type": "markdown",
   "metadata": {},
   "source": [
    "# nested loop"
   ]
  },
  {
   "cell_type": "code",
   "execution_count": 10,
   "metadata": {},
   "outputs": [
    {
     "name": "stdout",
     "output_type": "stream",
     "text": [
      "enter a num2\n",
      "1*1=1\n",
      "1*2=2\n",
      "1*3=3\n",
      "1*4=4\n",
      "1*5=5\n",
      "1*6=6\n",
      "1*7=7\n",
      "1*8=8\n",
      "1*9=9\n",
      "1*10=10\n",
      "2*1=2\n",
      "2*2=4\n",
      "2*3=6\n",
      "2*4=8\n",
      "2*5=10\n",
      "2*6=12\n",
      "2*7=14\n",
      "2*8=16\n",
      "2*9=18\n",
      "2*10=20\n"
     ]
    }
   ],
   "source": [
    "tables = int(input(\"enter a num\"))\n",
    "for table in range (1, tables+1):\n",
    "    for num in range (1,11):\n",
    "        print(f\"{table}*{num}={table*num}\")"
   ]
  },
  {
   "cell_type": "code",
   "execution_count": 12,
   "metadata": {},
   "outputs": [],
   "source": [
    "#with out nested loop single table print"
   ]
  },
  {
   "cell_type": "code",
   "execution_count": 15,
   "metadata": {},
   "outputs": [
    {
     "name": "stdout",
     "output_type": "stream",
     "text": [
      "enter a num4\n",
      "4*1=4\n",
      "4*2=8\n",
      "4*3=12\n",
      "4*4=16\n",
      "4*5=20\n",
      "4*6=24\n",
      "4*7=28\n",
      "4*8=32\n",
      "4*9=36\n",
      "4*10=40\n"
     ]
    }
   ],
   "source": [
    "table=int(input(\"enter a num\"))\n",
    "for a in range(1,11):\n",
    "    print(f\"{table}*{a}={table*a}\")"
   ]
  },
  {
   "cell_type": "code",
   "execution_count": 16,
   "metadata": {},
   "outputs": [
    {
     "name": "stdout",
     "output_type": "stream",
     "text": [
      "muddassir ali\n",
      "muddassir rana\n",
      "muddassir rajput\n",
      "fahad ali\n",
      "fahad rana\n",
      "fahad rajput\n",
      "shamshad ali\n",
      "shamshad rana\n",
      "shamshad rajput\n"
     ]
    }
   ],
   "source": [
    "name=[\"muddassir\",\"fahad\",\"shamshad\"]\n",
    "sirname=[\"ali\",\"rana\",\"rajput\"]\n",
    "for x in name:\n",
    "    for y in sirname:\n",
    "        print(x,y)"
   ]
  },
  {
   "cell_type": "code",
   "execution_count": 19,
   "metadata": {},
   "outputs": [
    {
     "name": "stdout",
     "output_type": "stream",
     "text": [
      "0 a\n",
      "0 l\n",
      "0 i\n",
      "1 a\n",
      "1 l\n",
      "1 i\n",
      "2 a\n",
      "2 l\n",
      "2 i\n"
     ]
    }
   ],
   "source": [
    "for a in range(3):\n",
    "    for char in \"ali\":\n",
    "        print(a,char)"
   ]
  },
  {
   "cell_type": "markdown",
   "metadata": {},
   "source": [
    "# type casting"
   ]
  },
  {
   "cell_type": "code",
   "execution_count": 21,
   "metadata": {},
   "outputs": [
    {
     "name": "stdout",
     "output_type": "stream",
     "text": [
      "enter a num  2\n",
      "enter a number  33\n"
     ]
    }
   ],
   "source": [
    "a=int(input(\"enter a num  \"))\n",
    "b=float(input(\"enter a number  \"))"
   ]
  },
  {
   "cell_type": "markdown",
   "metadata": {},
   "source": [
    "# changing case of string"
   ]
  },
  {
   "cell_type": "code",
   "execution_count": 23,
   "metadata": {},
   "outputs": [
    {
     "name": "stdout",
     "output_type": "stream",
     "text": [
      "muddassir ali rana\n"
     ]
    }
   ],
   "source": [
    "name=\"muddassir ali rana\"\n",
    "print(name)"
   ]
  },
  {
   "cell_type": "code",
   "execution_count": 24,
   "metadata": {},
   "outputs": [
    {
     "data": {
      "text/plain": [
       "str"
      ]
     },
     "execution_count": 24,
     "metadata": {},
     "output_type": "execute_result"
    }
   ],
   "source": [
    "type(name)"
   ]
  },
  {
   "cell_type": "code",
   "execution_count": 25,
   "metadata": {},
   "outputs": [
    {
     "data": {
      "text/plain": [
       "'MUDDASSIR ALI RANA'"
      ]
     },
     "execution_count": 25,
     "metadata": {},
     "output_type": "execute_result"
    }
   ],
   "source": [
    "name.upper()"
   ]
  },
  {
   "cell_type": "code",
   "execution_count": 26,
   "metadata": {},
   "outputs": [
    {
     "data": {
      "text/plain": [
       "'Muddassir Ali Rana'"
      ]
     },
     "execution_count": 26,
     "metadata": {},
     "output_type": "execute_result"
    }
   ],
   "source": [
    "name.title()"
   ]
  },
  {
   "cell_type": "code",
   "execution_count": 27,
   "metadata": {},
   "outputs": [
    {
     "data": {
      "text/plain": [
       "'muddassir ali rana'"
      ]
     },
     "execution_count": 27,
     "metadata": {},
     "output_type": "execute_result"
    }
   ],
   "source": [
    "name.lower()"
   ]
  },
  {
   "cell_type": "markdown",
   "metadata": {},
   "source": [
    "# dictioneries"
   ]
  },
  {
   "cell_type": "code",
   "execution_count": 29,
   "metadata": {},
   "outputs": [],
   "source": [
    "mydic={\"name\":\"ali\",\"age\":21,\"city\":\"karachi\"} #create a dictioneries"
   ]
  },
  {
   "cell_type": "code",
   "execution_count": 30,
   "metadata": {},
   "outputs": [
    {
     "data": {
      "text/plain": [
       "'ali'"
      ]
     },
     "execution_count": 30,
     "metadata": {},
     "output_type": "execute_result"
    }
   ],
   "source": [
    "mydic[\"name\"] #access a key"
   ]
  },
  {
   "cell_type": "code",
   "execution_count": 31,
   "metadata": {},
   "outputs": [],
   "source": [
    "mydic[\"email\"]=\"abc@email.com\" # adding a new key bin dic"
   ]
  },
  {
   "cell_type": "code",
   "execution_count": 32,
   "metadata": {},
   "outputs": [
    {
     "name": "stdout",
     "output_type": "stream",
     "text": [
      "{'name': 'ali', 'age': 21, 'city': 'karachi', 'email': 'abc@email.com'}\n"
     ]
    }
   ],
   "source": [
    "print(mydic)  #printong dictionieries"
   ]
  },
  {
   "cell_type": "code",
   "execution_count": 34,
   "metadata": {},
   "outputs": [],
   "source": [
    "del mydic[\"age\"] #  delete a key and  value in the dic"
   ]
  },
  {
   "cell_type": "code",
   "execution_count": 35,
   "metadata": {},
   "outputs": [
    {
     "data": {
      "text/plain": [
       "{'name': 'ali', 'city': 'karachi', 'email': 'abc@email.com'}"
      ]
     },
     "execution_count": 35,
     "metadata": {},
     "output_type": "execute_result"
    }
   ],
   "source": [
    "mydic"
   ]
  },
  {
   "cell_type": "code",
   "execution_count": 36,
   "metadata": {},
   "outputs": [],
   "source": [
    "# update a key \n",
    "\n",
    "mydic[\"name\"]=\"rana\""
   ]
  },
  {
   "cell_type": "code",
   "execution_count": 37,
   "metadata": {},
   "outputs": [
    {
     "data": {
      "text/plain": [
       "{'name': 'rana', 'city': 'karachi', 'email': 'abc@email.com'}"
      ]
     },
     "execution_count": 37,
     "metadata": {},
     "output_type": "execute_result"
    }
   ],
   "source": [
    "mydic"
   ]
  },
  {
   "cell_type": "code",
   "execution_count": 38,
   "metadata": {},
   "outputs": [
    {
     "data": {
      "text/plain": [
       "True"
      ]
     },
     "execution_count": 38,
     "metadata": {},
     "output_type": "execute_result"
    }
   ],
   "source": [
    "\"name\" in mydic  # check availablity"
   ]
  },
  {
   "cell_type": "code",
   "execution_count": 1,
   "metadata": {},
   "outputs": [
    {
     "name": "stdout",
     "output_type": "stream",
     "text": [
      "new key2\n",
      "new value2\n",
      "{'2': '2'}\n"
     ]
    }
   ],
   "source": [
    "# user se value le kar dic main add karwana\n",
    "\n",
    "dic={}\n",
    "\n",
    "k=input(\"new key\")\n",
    "v=input(\"new value\")\n",
    "dic[k]=v\n",
    "print(dic)"
   ]
  },
  {
   "cell_type": "code",
   "execution_count": 2,
   "metadata": {},
   "outputs": [
    {
     "name": "stdout",
     "output_type": "stream",
     "text": [
      "keyname\n",
      "valuekarachi\n",
      "{'name': 'karachi'}\n"
     ]
    }
   ],
   "source": [
    "city={}\n",
    "k=input(\"key\")\n",
    "v=input(\"value\")\n",
    "city[k]=v\n",
    "print(city)"
   ]
  },
  {
   "cell_type": "code",
   "execution_count": 5,
   "metadata": {},
   "outputs": [
    {
     "name": "stdout",
     "output_type": "stream",
     "text": [
      "keyname\n",
      "valuekarachi\n",
      "keyno\n",
      "value2\n",
      "{'name': 'karachi'}\n"
     ]
    }
   ],
   "source": [
    "# while loop k zarye input se value lena\n",
    "city1={}    \n",
    "\n",
    "while True:\n",
    "    k = input(\"key\")\n",
    "    v = input(\"value\")\n",
    "    if k == \"no\"  or v==\"no\":\n",
    "        break\n",
    "    city1[k]=v\n",
    "print(city1)"
   ]
  },
  {
   "cell_type": "code",
   "execution_count": 10,
   "metadata": {},
   "outputs": [
    {
     "name": "stdout",
     "output_type": "stream",
     "text": [
      "\n",
      "    PIAIC CARD\n",
      "    NEME:{0}\n",
      "    F.NAME:{1}\n",
      "    ROLL NO:{2}\n",
      "    COURSE:{3}\n",
      "\n",
      "    PIAIC CARD\n",
      "    NEME:{0}\n",
      "    F.NAME:{1}\n",
      "    ROLL NO:{2}\n",
      "    COURSE:{3}\n"
     ]
    }
   ],
   "source": [
    "#\n",
    "\n",
    "database=[\"muddassir\",\"shamshad\",1,\"AI\"],[\"fahad\",\"shamshad\",2,\"cnn\"]\n",
    "for r in database:\n",
    "    card=\"\"\"\n",
    "    PIAIC CARD\n",
    "    NEME:{0}\n",
    "    F.NAME:{1}\n",
    "    ROLL NO:{2}\n",
    "    COURSE:{3} \"\"\"\n",
    "    print(card)\n"
   ]
  },
  {
   "cell_type": "markdown",
   "metadata": {},
   "source": [
    "# function"
   ]
  },
  {
   "cell_type": "code",
   "execution_count": 11,
   "metadata": {},
   "outputs": [],
   "source": [
    "# method of function creating\n",
    "def add():\n",
    "    print(12+2)\n",
    "    "
   ]
  },
  {
   "cell_type": "code",
   "execution_count": 12,
   "metadata": {},
   "outputs": [
    {
     "name": "stdout",
     "output_type": "stream",
     "text": [
      "14\n"
     ]
    }
   ],
   "source": [
    "#calling function\n",
    "add()"
   ]
  },
  {
   "cell_type": "code",
   "execution_count": 15,
   "metadata": {},
   "outputs": [],
   "source": [
    "# passing information argument\n",
    "\n",
    "def sub(no1 , no2):  #parameter\n",
    "    print(no1+no2)\n",
    "    \n"
   ]
  },
  {
   "cell_type": "code",
   "execution_count": 17,
   "metadata": {},
   "outputs": [
    {
     "name": "stdout",
     "output_type": "stream",
     "text": [
      "7\n"
     ]
    }
   ],
   "source": [
    "sub(2,5)    #argument"
   ]
  },
  {
   "cell_type": "code",
   "execution_count": 18,
   "metadata": {},
   "outputs": [
    {
     "name": "stdout",
     "output_type": "stream",
     "text": [
      "6\n"
     ]
    }
   ],
   "source": [
    "sub(3,3)   #signature maloom karne k liye (|) shift+tab   function ka"
   ]
  },
  {
   "cell_type": "code",
   "execution_count": 4,
   "metadata": {},
   "outputs": [
    {
     "name": "stdout",
     "output_type": "stream",
     "text": [
      "9\n"
     ]
    }
   ],
   "source": [
    "#function passing information keyword argument\n",
    "\n",
    "def add(no1,no2):\n",
    "    print(no1+no2)\n",
    "\n",
    "add(no1=4,no2=5)  # key argument"
   ]
  },
  {
   "cell_type": "code",
   "execution_count": 5,
   "metadata": {},
   "outputs": [],
   "source": [
    "#defulat parameter\n",
    "\n",
    "def fullname(first,middle,last):\n",
    "    print(first+middle+last)\n"
   ]
  },
  {
   "cell_type": "code",
   "execution_count": 17,
   "metadata": {},
   "outputs": [
    {
     "name": "stdout",
     "output_type": "stream",
     "text": [
      "aliranaali\n"
     ]
    }
   ],
   "source": [
    "fullname(\"ali\",  \"rana\", \"ali\" )"
   ]
  },
  {
   "cell_type": "code",
   "execution_count": 21,
   "metadata": {},
   "outputs": [],
   "source": [
    "def ice_creame(size,flavour,*scope):\n",
    "    print(f\"your size   {size},  flavour  {flavour}, and scope   {scope}, is ready\") "
   ]
  },
  {
   "cell_type": "code",
   "execution_count": 22,
   "metadata": {},
   "outputs": [
    {
     "name": "stdout",
     "output_type": "stream",
     "text": [
      "your size   large,  flavour  mix, and scope   ('1 vanila', '1 choclate', '2 tutifruti'), is ready\n"
     ]
    }
   ],
   "source": [
    "ice_creame(\"large\",\"mix\",\"1 vanila\",\"1 choclate\",\"2 tutifruti\")"
   ]
  },
  {
   "cell_type": "code",
   "execution_count": 24,
   "metadata": {},
   "outputs": [],
   "source": [
    "#function ko passing information  value ko return karwany k liye\n",
    "def add(val1,val2):\n",
    "    ans=val1+val2\n",
    "    return ans,\"hello rana\"\n",
    "    print(\"after return\")"
   ]
  },
  {
   "cell_type": "code",
   "execution_count": 25,
   "metadata": {},
   "outputs": [
    {
     "data": {
      "text/plain": [
       "(7, 'hello rana')"
      ]
     },
     "execution_count": 25,
     "metadata": {},
     "output_type": "execute_result"
    }
   ],
   "source": [
    "add(2,5)"
   ]
  },
  {
   "cell_type": "code",
   "execution_count": 29,
   "metadata": {},
   "outputs": [],
   "source": [
    "#using function as variable\n",
    "def add(a,b):\n",
    "    return a+b\n",
    "def sub(a,b):\n",
    "    return a-b\n",
    "ans= add(2,4) + sub(9,1)"
   ]
  },
  {
   "cell_type": "code",
   "execution_count": 30,
   "metadata": {},
   "outputs": [
    {
     "data": {
      "text/plain": [
       "-2"
      ]
     },
     "execution_count": 30,
     "metadata": {},
     "output_type": "execute_result"
    }
   ],
   "source": [
    "sub(2,4)"
   ]
  },
  {
   "cell_type": "code",
   "execution_count": 33,
   "metadata": {},
   "outputs": [],
   "source": [
    "def happy():\n",
    "    name=\"ali\"\n",
    "    print(f\"mr {name},is happy toady\")\n",
    "    "
   ]
  },
  {
   "cell_type": "code",
   "execution_count": 34,
   "metadata": {},
   "outputs": [
    {
     "name": "stdout",
     "output_type": "stream",
     "text": [
      "mr ali,is happy toady\n"
     ]
    }
   ],
   "source": [
    "happy()"
   ]
  },
  {
   "cell_type": "code",
   "execution_count": 39,
   "metadata": {},
   "outputs": [],
   "source": [
    "def sad():\n",
    "    another=\"rana\"\n",
    "    print(f\"mr {another},is sad today\")"
   ]
  },
  {
   "cell_type": "code",
   "execution_count": 40,
   "metadata": {},
   "outputs": [
    {
     "name": "stdout",
     "output_type": "stream",
     "text": [
      "mr rana,is sad today\n"
     ]
    }
   ],
   "source": [
    "sad()"
   ]
  },
  {
   "cell_type": "markdown",
   "metadata": {},
   "source": [
    "# function with in the function"
   ]
  },
  {
   "cell_type": "code",
   "execution_count": 61,
   "metadata": {},
   "outputs": [],
   "source": [
    "def cammition_cal(sales):\n",
    "    if sales > 100:\n",
    "        return sales*100\n",
    "    elif sales > 50:\n",
    "        return sales*50\n",
    "    else:\n",
    "        return 0\n",
    "def salery_cal(basic,sales):\n",
    "    grossalary =basic + cammition_cal(sales)\n",
    "    print(f\"your salary is {grossalary}\")\n",
    "    "
   ]
  },
  {
   "cell_type": "code",
   "execution_count": 62,
   "metadata": {},
   "outputs": [
    {
     "name": "stdout",
     "output_type": "stream",
     "text": [
      "your salary is 20000\n"
     ]
    }
   ],
   "source": [
    "salery_cal(5000,150)"
   ]
  },
  {
   "cell_type": "markdown",
   "metadata": {},
   "source": [
    "# while loop"
   ]
  },
  {
   "cell_type": "code",
   "execution_count": 1,
   "metadata": {},
   "outputs": [
    {
     "name": "stdout",
     "output_type": "stream",
     "text": [
      "ali\n"
     ]
    }
   ],
   "source": [
    "print(\"ali\")"
   ]
  },
  {
   "cell_type": "code",
   "execution_count": 2,
   "metadata": {},
   "outputs": [
    {
     "name": "stdout",
     "output_type": "stream",
     "text": [
      "0 while\n",
      "1 while\n",
      "2 while\n",
      "3 while\n",
      "4 while\n",
      "5 while\n",
      "6 while\n",
      "7 while\n",
      "8 while\n",
      "9 while\n"
     ]
    }
   ],
   "source": [
    "a=0\n",
    "while a<10:\n",
    "    print(a,\"while\")\n",
    "    a+=1"
   ]
  },
  {
   "cell_type": "code",
   "execution_count": 3,
   "metadata": {},
   "outputs": [
    {
     "name": "stdout",
     "output_type": "stream",
     "text": [
      "0 ali\n",
      "1 ali\n",
      "2 ali\n",
      "3 ali\n",
      "4 ali\n",
      "5 ali\n",
      "6 ali\n",
      "7 ali\n",
      "8 ali\n",
      "9 ali\n"
     ]
    }
   ],
   "source": [
    "for num in range (10):\n",
    "    print(num,\"ali\")"
   ]
  },
  {
   "cell_type": "code",
   "execution_count": null,
   "metadata": {},
   "outputs": [],
   "source": [
    "a=0\n",
    "while a<10:\n",
    "    userinput=input(\"plese enter fav food\")\n",
    "    a+=1"
   ]
  },
  {
   "cell_type": "code",
   "execution_count": null,
   "metadata": {},
   "outputs": [],
   "source": [
    "#flagh setting\n",
    "flag = True\n",
    "favfood=[]\n",
    "while flag:\n",
    "    userinput=input(\"fav food   \")\n",
    "    if userinput==\"q\":\n",
    "        flag=False\n",
    "    else:\n",
    "        favfood.append(userinput)\n",
    "favfood"
   ]
  },
  {
   "cell_type": "code",
   "execution_count": 2,
   "metadata": {},
   "outputs": [],
   "source": [
    "def add():\n",
    "    print(2+4)"
   ]
  },
  {
   "cell_type": "code",
   "execution_count": 3,
   "metadata": {},
   "outputs": [
    {
     "name": "stdout",
     "output_type": "stream",
     "text": [
      "6\n"
     ]
    }
   ],
   "source": [
    "add()"
   ]
  },
  {
   "cell_type": "code",
   "execution_count": null,
   "metadata": {},
   "outputs": [],
   "source": []
  }
 ],
 "metadata": {
  "kernelspec": {
   "display_name": "Python 3",
   "language": "python",
   "name": "python3"
  },
  "language_info": {
   "codemirror_mode": {
    "name": "ipython",
    "version": 3
   },
   "file_extension": ".py",
   "mimetype": "text/x-python",
   "name": "python",
   "nbconvert_exporter": "python",
   "pygments_lexer": "ipython3",
   "version": "3.7.6"
  }
 },
 "nbformat": 4,
 "nbformat_minor": 4
}
